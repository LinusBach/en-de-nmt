{
 "cells": [
  {
   "cell_type": "code",
   "execution_count": 2,
   "outputs": [],
   "source": [
    "from transformers import AutoTokenizer\n",
    "import torch"
   ],
   "metadata": {
    "collapsed": false,
    "ExecuteTime": {
     "end_time": "2023-06-11T20:16:25.431551900Z",
     "start_time": "2023-06-11T20:16:23.861558200Z"
    }
   }
  },
  {
   "cell_type": "code",
   "execution_count": 3,
   "outputs": [],
   "source": [
    "class Lang:\n",
    "    def __init__(self, name, max_length=15):\n",
    "        self.name = name\n",
    "        self.max_length = max_length\n",
    "        if name == \"en\":\n",
    "            self.tokenizer = AutoTokenizer.from_pretrained(\"bert-base-cased\")\n",
    "            self.n_words = 28996\n",
    "        else:\n",
    "            self.tokenizer = AutoTokenizer.from_pretrained(\"bert-base-german-cased\")\n",
    "            self.n_words = 30000\n",
    "\n",
    "    def tokenize(self, sentence):\n",
    "        return self.tokenizer(sentence, add_special_tokens=True, max_length=self.max_length, truncation=True).input_ids\n",
    "\n",
    "    def decode(self, token_ids):\n",
    "        return self.tokenizer.decode(token_ids, skip_special_tokens=True)"
   ],
   "metadata": {
    "collapsed": false,
    "ExecuteTime": {
     "end_time": "2023-06-11T20:16:25.446586300Z",
     "start_time": "2023-06-11T20:16:25.431551900Z"
    }
   }
  },
  {
   "cell_type": "code",
   "execution_count": 4,
   "outputs": [],
   "source": [
    "en = Lang(\"en\")"
   ],
   "metadata": {
    "collapsed": false,
    "ExecuteTime": {
     "end_time": "2023-06-11T20:16:25.798790100Z",
     "start_time": "2023-06-11T20:16:25.446586300Z"
    }
   }
  },
  {
   "cell_type": "code",
   "execution_count": 5,
   "outputs": [],
   "source": [
    "de = Lang(\"de\")"
   ],
   "metadata": {
    "collapsed": false,
    "ExecuteTime": {
     "end_time": "2023-06-11T20:16:25.961618700Z",
     "start_time": "2023-06-11T20:16:25.801797300Z"
    }
   }
  },
  {
   "cell_type": "code",
   "execution_count": 7,
   "outputs": [
    {
     "data": {
      "text/plain": "tensor([[   3, 1671, 4058,   39, 2586,    4]], device='cuda:0')"
     },
     "execution_count": 7,
     "metadata": {},
     "output_type": "execute_result"
    }
   ],
   "source": [
    "torch.LongTensor(de.tokenize(\"Ich bin ein Berliner\")).to(\"cuda\").view(1, -1)"
   ],
   "metadata": {
    "collapsed": false,
    "ExecuteTime": {
     "end_time": "2023-06-11T20:16:40.344090800Z",
     "start_time": "2023-06-11T20:16:40.325596700Z"
    }
   }
  },
  {
   "cell_type": "code",
   "execution_count": 11,
   "outputs": [
    {
     "data": {
      "text/plain": "['[CLS]', 'I', 'am', 'a', 'Berliner', '[SEP]']"
     },
     "execution_count": 11,
     "metadata": {},
     "output_type": "execute_result"
    }
   ],
   "source": [
    "de.tokenizer.tokenize(\"I am a Berliner\", add_special_tokens=True)"
   ],
   "metadata": {
    "collapsed": false,
    "ExecuteTime": {
     "end_time": "2023-06-11T20:37:40.063183Z",
     "start_time": "2023-06-11T20:37:40.053147400Z"
    }
   }
  },
  {
   "cell_type": "code",
   "execution_count": null,
   "outputs": [],
   "source": [],
   "metadata": {
    "collapsed": false
   }
  }
 ],
 "metadata": {
  "kernelspec": {
   "display_name": "Python 3",
   "language": "python",
   "name": "python3"
  },
  "language_info": {
   "codemirror_mode": {
    "name": "ipython",
    "version": 2
   },
   "file_extension": ".py",
   "mimetype": "text/x-python",
   "name": "python",
   "nbconvert_exporter": "python",
   "pygments_lexer": "ipython2",
   "version": "2.7.6"
  }
 },
 "nbformat": 4,
 "nbformat_minor": 0
}
