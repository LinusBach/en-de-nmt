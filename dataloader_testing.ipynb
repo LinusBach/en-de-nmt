{
 "cells": [
  {
   "cell_type": "code",
   "execution_count": 1,
   "outputs": [],
   "source": [
    "from transformers import AutoTokenizer"
   ],
   "metadata": {
    "collapsed": false,
    "ExecuteTime": {
     "end_time": "2023-06-11T19:00:22.465857300Z",
     "start_time": "2023-06-11T19:00:21.872010900Z"
    }
   }
  },
  {
   "cell_type": "code",
   "execution_count": 24,
   "outputs": [],
   "source": [
    "class Lang:\n",
    "    def __init__(self, name, max_length=15):\n",
    "        self.name = name\n",
    "        self.max_length = max_length\n",
    "        if name == \"en\":\n",
    "            self.tokenizer = AutoTokenizer.from_pretrained(\"bert-base-cased\")\n",
    "            self.n_words = 28996\n",
    "        else:\n",
    "            self.tokenizer = AutoTokenizer.from_pretrained(\"bert-base-german-cased\")\n",
    "            self.n_words = 30000\n",
    "\n",
    "    def tokenize(self, sentence):\n",
    "        return self.tokenizer.tokenize(sentence, add_special_tokens=True, max_length=self.max_length, truncation=True).input_ids\n",
    "\n",
    "    def decode(self, token_ids):\n",
    "        return self.tokenizer.decode(token_ids, skip_special_tokens=True)"
   ],
   "metadata": {
    "collapsed": false,
    "ExecuteTime": {
     "end_time": "2023-06-11T19:15:58.949598100Z",
     "start_time": "2023-06-11T19:15:58.939032700Z"
    }
   }
  },
  {
   "cell_type": "code",
   "execution_count": 25,
   "outputs": [],
   "source": [
    "en = Lang(\"en\")"
   ],
   "metadata": {
    "collapsed": false,
    "ExecuteTime": {
     "end_time": "2023-06-11T19:15:59.593483100Z",
     "start_time": "2023-06-11T19:15:59.348060200Z"
    }
   }
  },
  {
   "cell_type": "code",
   "execution_count": 26,
   "outputs": [],
   "source": [
    "de = Lang(\"de\")"
   ],
   "metadata": {
    "collapsed": false,
    "ExecuteTime": {
     "end_time": "2023-06-11T19:16:00.399907700Z",
     "start_time": "2023-06-11T19:16:00.243616500Z"
    }
   }
  },
  {
   "cell_type": "code",
   "execution_count": 29,
   "outputs": [
    {
     "data": {
      "text/plain": "array(<zip object at 0x00000228B3079780>, dtype=object)"
     },
     "execution_count": 29,
     "metadata": {},
     "output_type": "execute_result"
    }
   ],
   "source": [
    "import numpy as np\n",
    "np.array(zip([0, 1, 2], [3, 4, 5]))"
   ],
   "metadata": {
    "collapsed": false,
    "ExecuteTime": {
     "end_time": "2023-06-11T19:22:51.442365Z",
     "start_time": "2023-06-11T19:22:51.426731900Z"
    }
   }
  },
  {
   "cell_type": "code",
   "execution_count": null,
   "outputs": [],
   "source": [],
   "metadata": {
    "collapsed": false
   }
  }
 ],
 "metadata": {
  "kernelspec": {
   "display_name": "Python 3",
   "language": "python",
   "name": "python3"
  },
  "language_info": {
   "codemirror_mode": {
    "name": "ipython",
    "version": 2
   },
   "file_extension": ".py",
   "mimetype": "text/x-python",
   "name": "python",
   "nbconvert_exporter": "python",
   "pygments_lexer": "ipython2",
   "version": "2.7.6"
  }
 },
 "nbformat": 4,
 "nbformat_minor": 0
}
